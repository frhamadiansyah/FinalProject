{
 "cells": [
  {
   "cell_type": "markdown",
   "metadata": {},
   "source": [
    "## 1. Import Library and Dataset"
   ]
  },
  {
   "cell_type": "code",
   "execution_count": 1,
   "metadata": {
    "ExecuteTime": {
     "end_time": "2019-11-13T03:08:33.877448Z",
     "start_time": "2019-11-13T03:08:22.798724Z"
    }
   },
   "outputs": [],
   "source": [
    "import nltk # Imports the library\n",
    "# nltk.download_shell() #Download the necessary datasets\n",
    "import pandas as pd\n",
    "import numpy as np\n",
    "import seaborn as sns\n",
    "import matplotlib.pyplot as plt\n",
    "import string\n",
    "import re\n",
    "%matplotlib inline"
   ]
  },
  {
   "cell_type": "code",
   "execution_count": 2,
   "metadata": {
    "ExecuteTime": {
     "end_time": "2019-11-13T03:08:34.086992Z",
     "start_time": "2019-11-13T03:08:33.881233Z"
    },
    "scrolled": true
   },
   "outputs": [
    {
     "name": "stdout",
     "output_type": "stream",
     "text": [
      "<class 'pandas.core.frame.DataFrame'>\n",
      "RangeIndex: 10806 entries, 0 to 10805\n",
      "Data columns (total 2 columns):\n",
      "sentimen    10806 non-null int64\n",
      "Tweet       10806 non-null object\n",
      "dtypes: int64(1), object(1)\n",
      "memory usage: 168.9+ KB\n"
     ]
    }
   ],
   "source": [
    "df = pd.read_csv('Dataset/Indonesian Sentiment Twitter Dataset Labeled.csv', sep = '\\t')\n",
    "\n",
    "df.info()"
   ]
  },
  {
   "cell_type": "code",
   "execution_count": 3,
   "metadata": {
    "ExecuteTime": {
     "end_time": "2019-11-13T03:08:34.146050Z",
     "start_time": "2019-11-13T03:08:34.091482Z"
    }
   },
   "outputs": [
    {
     "data": {
      "text/html": [
       "<div>\n",
       "<style scoped>\n",
       "    .dataframe tbody tr th:only-of-type {\n",
       "        vertical-align: middle;\n",
       "    }\n",
       "\n",
       "    .dataframe tbody tr th {\n",
       "        vertical-align: top;\n",
       "    }\n",
       "\n",
       "    .dataframe thead th {\n",
       "        text-align: right;\n",
       "    }\n",
       "</style>\n",
       "<table border=\"1\" class=\"dataframe\">\n",
       "  <thead>\n",
       "    <tr style=\"text-align: right;\">\n",
       "      <th></th>\n",
       "      <th>sentimen</th>\n",
       "      <th>Tweet</th>\n",
       "    </tr>\n",
       "  </thead>\n",
       "  <tbody>\n",
       "    <tr>\n",
       "      <th>0</th>\n",
       "      <td>-1</td>\n",
       "      <td>lagu bosan apa yang aku save ni huhuhuhuhuhuhu...</td>\n",
       "    </tr>\n",
       "    <tr>\n",
       "      <th>1</th>\n",
       "      <td>-1</td>\n",
       "      <td>kita lanjutkan saja diam ini hingga kau dan ak...</td>\n",
       "    </tr>\n",
       "    <tr>\n",
       "      <th>2</th>\n",
       "      <td>1</td>\n",
       "      <td>doa rezeki tak putus inna haa zaa larizquna ma...</td>\n",
       "    </tr>\n",
       "    <tr>\n",
       "      <th>3</th>\n",
       "      <td>1</td>\n",
       "      <td>makasih loh ntar kita bagi hasil aku 99 9 sisa...</td>\n",
       "    </tr>\n",
       "    <tr>\n",
       "      <th>4</th>\n",
       "      <td>-1</td>\n",
       "      <td>aku tak faham betul jenis orang malaysia yang ...</td>\n",
       "    </tr>\n",
       "  </tbody>\n",
       "</table>\n",
       "</div>"
      ],
      "text/plain": [
       "   sentimen                                              Tweet\n",
       "0        -1  lagu bosan apa yang aku save ni huhuhuhuhuhuhu...\n",
       "1        -1  kita lanjutkan saja diam ini hingga kau dan ak...\n",
       "2         1  doa rezeki tak putus inna haa zaa larizquna ma...\n",
       "3         1  makasih loh ntar kita bagi hasil aku 99 9 sisa...\n",
       "4        -1  aku tak faham betul jenis orang malaysia yang ..."
      ]
     },
     "execution_count": 3,
     "metadata": {},
     "output_type": "execute_result"
    }
   ],
   "source": [
    "df.head()"
   ]
  },
  {
   "cell_type": "code",
   "execution_count": 4,
   "metadata": {
    "ExecuteTime": {
     "end_time": "2019-11-13T03:08:34.166369Z",
     "start_time": "2019-11-13T03:08:34.149934Z"
    }
   },
   "outputs": [
    {
     "data": {
      "text/plain": [
       " 0    5327\n",
       "-1    2887\n",
       " 1    2592\n",
       "Name: sentimen, dtype: int64"
      ]
     },
     "execution_count": 4,
     "metadata": {},
     "output_type": "execute_result"
    }
   ],
   "source": [
    "df.sentimen.value_counts()"
   ]
  },
  {
   "cell_type": "markdown",
   "metadata": {},
   "source": [
    "### 1a. Add Extra Feature to Simplify Analysis"
   ]
  },
  {
   "cell_type": "code",
   "execution_count": 5,
   "metadata": {
    "ExecuteTime": {
     "end_time": "2019-11-13T03:08:34.203656Z",
     "start_time": "2019-11-13T03:08:34.170761Z"
    }
   },
   "outputs": [],
   "source": [
    "## add hashtag columns\n",
    "def check_hashtag(x):\n",
    "    if len(re.findall(r'#\\w+', x)) == 0:\n",
    "        return None\n",
    "    else :\n",
    "        return ' '.join(re.findall(r'#\\w+', x))\n",
    "\n",
    "df['hashtag'] = df['Tweet'].apply(check_hashtag)"
   ]
  },
  {
   "cell_type": "code",
   "execution_count": 6,
   "metadata": {
    "ExecuteTime": {
     "end_time": "2019-11-13T03:08:34.297666Z",
     "start_time": "2019-11-13T03:08:34.205862Z"
    }
   },
   "outputs": [],
   "source": [
    "def clean_link(text):\n",
    "    #lowercase all\n",
    "    text = text.lower()\n",
    "    #hapus RT\n",
    "    text=re.sub('^rt @[^\\s]+','',text)\n",
    "    #text = re.sub(',','',text)\n",
    "    text=re.sub(r'http\\S+','',text)\n",
    "    #hapus \\n\n",
    "    text=re.sub('\\n',' ',text)\n",
    "\n",
    "    return text\n",
    "\n",
    "df['no_link'] = df['Tweet'].apply(clean_link)"
   ]
  },
  {
   "cell_type": "code",
   "execution_count": 7,
   "metadata": {
    "ExecuteTime": {
     "end_time": "2019-11-13T03:08:34.329581Z",
     "start_time": "2019-11-13T03:08:34.299968Z"
    }
   },
   "outputs": [],
   "source": [
    "def unicode_text(x):\n",
    "    x = re.findall(r'\\\\u[0-9a-fA-F]{4}|\\\\U[0-9a-fA-F]{8}',x)\n",
    "    if len(x) == 0:\n",
    "        return False\n",
    "    else:\n",
    "        return True\n",
    "df['unicode'] = df['no_link'].apply(unicode_text)"
   ]
  },
  {
   "cell_type": "code",
   "execution_count": 8,
   "metadata": {
    "ExecuteTime": {
     "end_time": "2019-11-13T03:08:34.341443Z",
     "start_time": "2019-11-13T03:08:34.334065Z"
    }
   },
   "outputs": [
    {
     "data": {
      "text/plain": [
       "(10806, 5)"
      ]
     },
     "execution_count": 8,
     "metadata": {},
     "output_type": "execute_result"
    }
   ],
   "source": [
    "# f = 'ibu, terima kasih atas doa dan kumpulan pelajaran yang telah membangun pemikiran, karakter dan semangat untuk berju\\\\u2026'.split()\n",
    "# mylist = [line for line in f]\n",
    "# unicode_literal = re.compile(r'\\\\u[0-9a-fA-F]{4}|\\\\U[0-9a-fA-F]{8}')\n",
    "# kalimat = []\n",
    "# for i in mylist:\n",
    "#     kalimat.append(unicode_literal.sub(r'', i))\n",
    "# ' '.join(kalimat)\n",
    "df.shape"
   ]
  },
  {
   "cell_type": "code",
   "execution_count": 9,
   "metadata": {
    "ExecuteTime": {
     "end_time": "2019-11-13T03:08:34.424615Z",
     "start_time": "2019-11-13T03:08:34.346515Z"
    },
    "scrolled": true
   },
   "outputs": [
    {
     "data": {
      "text/html": [
       "<div>\n",
       "<style scoped>\n",
       "    .dataframe tbody tr th:only-of-type {\n",
       "        vertical-align: middle;\n",
       "    }\n",
       "\n",
       "    .dataframe tbody tr th {\n",
       "        vertical-align: top;\n",
       "    }\n",
       "\n",
       "    .dataframe thead th {\n",
       "        text-align: right;\n",
       "    }\n",
       "</style>\n",
       "<table border=\"1\" class=\"dataframe\">\n",
       "  <thead>\n",
       "    <tr style=\"text-align: right;\">\n",
       "      <th></th>\n",
       "      <th>sentimen</th>\n",
       "      <th>Tweet</th>\n",
       "      <th>hashtag</th>\n",
       "      <th>no_link</th>\n",
       "      <th>unicode</th>\n",
       "    </tr>\n",
       "  </thead>\n",
       "  <tbody>\n",
       "    <tr>\n",
       "      <th>284</th>\n",
       "      <td>0</td>\n",
       "      <td>nctea selama ini aku cuma tau fotonya jisung a...</td>\n",
       "      <td>None</td>\n",
       "      <td>nctea selama ini aku cuma tau fotonya jisung a...</td>\n",
       "      <td>False</td>\n",
       "    </tr>\n",
       "    <tr>\n",
       "      <th>933</th>\n",
       "      <td>0</td>\n",
       "      <td>nctea selama ini aku cuma tau fotonya jisung a...</td>\n",
       "      <td>None</td>\n",
       "      <td>nctea selama ini aku cuma tau fotonya jisung a...</td>\n",
       "      <td>False</td>\n",
       "    </tr>\n",
       "    <tr>\n",
       "      <th>1097</th>\n",
       "      <td>1</td>\n",
       "      <td>aku suka orang cakap macam ni even tak rasa be...</td>\n",
       "      <td>None</td>\n",
       "      <td>aku suka orang cakap macam ni even tak rasa be...</td>\n",
       "      <td>False</td>\n",
       "    </tr>\n",
       "    <tr>\n",
       "      <th>1272</th>\n",
       "      <td>0</td>\n",
       "      <td>berkenan betul aku dgn concept design ikea ni ...</td>\n",
       "      <td>None</td>\n",
       "      <td>berkenan betul aku dgn concept design ikea ni ...</td>\n",
       "      <td>False</td>\n",
       "    </tr>\n",
       "    <tr>\n",
       "      <th>1277</th>\n",
       "      <td>-1</td>\n",
       "      <td>iPhone tak mahal aku rasa Ikut market price an...</td>\n",
       "      <td>None</td>\n",
       "      <td>iphone tak mahal aku rasa ikut market price an...</td>\n",
       "      <td>False</td>\n",
       "    </tr>\n",
       "    <tr>\n",
       "      <th>1359</th>\n",
       "      <td>-1</td>\n",
       "      <td>admin tau kalo hoseok bisa nyetir tapi kenapa ...</td>\n",
       "      <td>None</td>\n",
       "      <td>admin tau kalo hoseok bisa nyetir tapi kenapa ...</td>\n",
       "      <td>False</td>\n",
       "    </tr>\n",
       "    <tr>\n",
       "      <th>1658</th>\n",
       "      <td>1</td>\n",
       "      <td>chemotherapy gdp cycle 2 day 1 orang lain sibu...</td>\n",
       "      <td>None</td>\n",
       "      <td>chemotherapy gdp cycle 2 day 1 orang lain sibu...</td>\n",
       "      <td>False</td>\n",
       "    </tr>\n",
       "    <tr>\n",
       "      <th>2208</th>\n",
       "      <td>1</td>\n",
       "      <td>aku suka orang cakap macam ni even tak rasa be...</td>\n",
       "      <td>None</td>\n",
       "      <td>aku suka orang cakap macam ni even tak rasa be...</td>\n",
       "      <td>False</td>\n",
       "    </tr>\n",
       "    <tr>\n",
       "      <th>2412</th>\n",
       "      <td>1</td>\n",
       "      <td>aku suka orang cakap macam ni even tak rasa be...</td>\n",
       "      <td>None</td>\n",
       "      <td>aku suka orang cakap macam ni even tak rasa be...</td>\n",
       "      <td>False</td>\n",
       "    </tr>\n",
       "    <tr>\n",
       "      <th>2721</th>\n",
       "      <td>1</td>\n",
       "      <td>berkenan betul aku dgn concept design ikea ni ...</td>\n",
       "      <td>None</td>\n",
       "      <td>berkenan betul aku dgn concept design ikea ni ...</td>\n",
       "      <td>False</td>\n",
       "    </tr>\n",
       "    <tr>\n",
       "      <th>3171</th>\n",
       "      <td>0</td>\n",
       "      <td>nctea selama ini aku cuma tau fotonya jisung a...</td>\n",
       "      <td>None</td>\n",
       "      <td>nctea selama ini aku cuma tau fotonya jisung a...</td>\n",
       "      <td>False</td>\n",
       "    </tr>\n",
       "    <tr>\n",
       "      <th>3208</th>\n",
       "      <td>0</td>\n",
       "      <td>chemotherapy gdp cycle 2 day 1 orang lain sibu...</td>\n",
       "      <td>None</td>\n",
       "      <td>chemotherapy gdp cycle 2 day 1 orang lain sibu...</td>\n",
       "      <td>False</td>\n",
       "    </tr>\n",
       "    <tr>\n",
       "      <th>3556</th>\n",
       "      <td>0</td>\n",
       "      <td>weh korang mak aku ada buat hand sock dengan i...</td>\n",
       "      <td>None</td>\n",
       "      <td>weh korang mak aku ada buat hand sock dengan i...</td>\n",
       "      <td>False</td>\n",
       "    </tr>\n",
       "    <tr>\n",
       "      <th>3575</th>\n",
       "      <td>0</td>\n",
       "      <td>admin tau kalo hoseok bisa nyetir tapi kenapa ...</td>\n",
       "      <td>None</td>\n",
       "      <td>admin tau kalo hoseok bisa nyetir tapi kenapa ...</td>\n",
       "      <td>False</td>\n",
       "    </tr>\n",
       "    <tr>\n",
       "      <th>4093</th>\n",
       "      <td>0</td>\n",
       "      <td>kas jogathon ni benda paling bodoh time sekola...</td>\n",
       "      <td>None</td>\n",
       "      <td>kas jogathon ni benda paling bodoh time sekola...</td>\n",
       "      <td>False</td>\n",
       "    </tr>\n",
       "    <tr>\n",
       "      <th>5396</th>\n",
       "      <td>0</td>\n",
       "      <td>bantuan dari pemerintah sangat diharapkan oleh...</td>\n",
       "      <td>None</td>\n",
       "      <td>bantuan dari pemerintah sangat diharapkan oleh...</td>\n",
       "      <td>False</td>\n",
       "    </tr>\n",
       "    <tr>\n",
       "      <th>5468</th>\n",
       "      <td>-1</td>\n",
       "      <td>jika benar dianiaya artinya mereka sudah mulai...</td>\n",
       "      <td>None</td>\n",
       "      <td>jika benar dianiaya artinya mereka sudah mulai</td>\n",
       "      <td>False</td>\n",
       "    </tr>\n",
       "    <tr>\n",
       "      <th>5705</th>\n",
       "      <td>0</td>\n",
       "      <td>soalan kita sedang duduk menanti solat jemaah ...</td>\n",
       "      <td>None</td>\n",
       "      <td>soalan kita sedang duduk menanti solat jemaah ...</td>\n",
       "      <td>False</td>\n",
       "    </tr>\n",
       "    <tr>\n",
       "      <th>5837</th>\n",
       "      <td>1</td>\n",
       "      <td>finally dapat juga beli dua buku ni next time ...</td>\n",
       "      <td>None</td>\n",
       "      <td>finally dapat juga beli dua buku ni next time ...</td>\n",
       "      <td>False</td>\n",
       "    </tr>\n",
       "    <tr>\n",
       "      <th>6015</th>\n",
       "      <td>-1</td>\n",
       "      <td>pengakuan pelaku mereka menjarah untuk keluarg...</td>\n",
       "      <td>None</td>\n",
       "      <td>pengakuan pelaku mereka menjarah untuk keluarg...</td>\n",
       "      <td>False</td>\n",
       "    </tr>\n",
       "    <tr>\n",
       "      <th>6335</th>\n",
       "      <td>0</td>\n",
       "      <td>membuat media xld dan he untuk persiapan pengu...</td>\n",
       "      <td>None</td>\n",
       "      <td>membuat media xld dan he untuk persiapan pengu...</td>\n",
       "      <td>False</td>\n",
       "    </tr>\n",
       "    <tr>\n",
       "      <th>6425</th>\n",
       "      <td>1</td>\n",
       "      <td>dia juga meminta para umat untuk mendoakan kor...</td>\n",
       "      <td>None</td>\n",
       "      <td>dia juga meminta para umat untuk mendoakan kor...</td>\n",
       "      <td>False</td>\n",
       "    </tr>\n",
       "    <tr>\n",
       "      <th>6548</th>\n",
       "      <td>0</td>\n",
       "      <td>awal juga aku buka rotikeramat hari ni jemput ...</td>\n",
       "      <td>None</td>\n",
       "      <td>awal juga aku buka rotikeramat hari ni jemput ...</td>\n",
       "      <td>False</td>\n",
       "    </tr>\n",
       "    <tr>\n",
       "      <th>6724</th>\n",
       "      <td>1</td>\n",
       "      <td>resmi dirilis kpu visi pasangan prabowoandi le...</td>\n",
       "      <td>None</td>\n",
       "      <td>resmi dirilis kpu visi pasangan prabowoandi le...</td>\n",
       "      <td>False</td>\n",
       "    </tr>\n",
       "    <tr>\n",
       "      <th>6746</th>\n",
       "      <td>1</td>\n",
       "      <td>alhamdulillah terimakasih ya alloh hrs tidak m...</td>\n",
       "      <td>None</td>\n",
       "      <td>alhamdulillah terimakasih ya alloh hrs tidak m...</td>\n",
       "      <td>False</td>\n",
       "    </tr>\n",
       "    <tr>\n",
       "      <th>7336</th>\n",
       "      <td>-1</td>\n",
       "      <td>menghalalkanegala cara melanggar aturan merasa...</td>\n",
       "      <td>None</td>\n",
       "      <td>menghalalkanegala cara melanggar aturan merasa...</td>\n",
       "      <td>False</td>\n",
       "    </tr>\n",
       "    <tr>\n",
       "      <th>7400</th>\n",
       "      <td>0</td>\n",
       "      <td>dan rahsiakanlah perkataanmu atau nyatakanlahu...</td>\n",
       "      <td>None</td>\n",
       "      <td>dan rahsiakanlah perkataanmu atau nyatakanlahu...</td>\n",
       "      <td>False</td>\n",
       "    </tr>\n",
       "    <tr>\n",
       "      <th>7776</th>\n",
       "      <td>-1</td>\n",
       "      <td>mereka menyesal kerana tidak solat dan kurang ...</td>\n",
       "      <td>None</td>\n",
       "      <td>mereka menyesal kerana tidak solat dan kurang ...</td>\n",
       "      <td>False</td>\n",
       "    </tr>\n",
       "    <tr>\n",
       "      <th>7884</th>\n",
       "      <td>-1</td>\n",
       "      <td>duka rakyatulawesi tengah duka kita semua deng...</td>\n",
       "      <td>None</td>\n",
       "      <td>duka rakyatulawesi tengah duka kita semua deng...</td>\n",
       "      <td>False</td>\n",
       "    </tr>\n",
       "    <tr>\n",
       "      <th>8072</th>\n",
       "      <td>0</td>\n",
       "      <td>pengakuan pelaku mereka menjarah untuk keluarg...</td>\n",
       "      <td>None</td>\n",
       "      <td>pengakuan pelaku mereka menjarah untuk keluarg...</td>\n",
       "      <td>False</td>\n",
       "    </tr>\n",
       "    <tr>\n",
       "      <th>...</th>\n",
       "      <td>...</td>\n",
       "      <td>...</td>\n",
       "      <td>...</td>\n",
       "      <td>...</td>\n",
       "      <td>...</td>\n",
       "    </tr>\n",
       "    <tr>\n",
       "      <th>10771</th>\n",
       "      <td>0</td>\n",
       "      <td>Awak Ada personal gn saya ke Kalau Ada slide t...</td>\n",
       "      <td>None</td>\n",
       "      <td>awak ada personal gn saya ke kalau ada slide t...</td>\n",
       "      <td>False</td>\n",
       "    </tr>\n",
       "    <tr>\n",
       "      <th>10773</th>\n",
       "      <td>0</td>\n",
       "      <td>Kamu juga hmp</td>\n",
       "      <td>None</td>\n",
       "      <td>kamu juga hmp</td>\n",
       "      <td>False</td>\n",
       "    </tr>\n",
       "    <tr>\n",
       "      <th>10774</th>\n",
       "      <td>0</td>\n",
       "      <td>orang melayu kita ni suka merajuk Bila dah mer...</td>\n",
       "      <td>None</td>\n",
       "      <td>orang melayu kita ni suka merajuk bila dah mer...</td>\n",
       "      <td>False</td>\n",
       "    </tr>\n",
       "    <tr>\n",
       "      <th>10775</th>\n",
       "      <td>0</td>\n",
       "      <td>Soon Pergi sabah asyik kundasang je kita try l...</td>\n",
       "      <td>None</td>\n",
       "      <td>soon pergi sabah asyik kundasang je kita try l...</td>\n",
       "      <td>False</td>\n",
       "    </tr>\n",
       "    <tr>\n",
       "      <th>10776</th>\n",
       "      <td>-1</td>\n",
       "      <td>Gak ada salahnya kan aku sayang sama kamu Kalo...</td>\n",
       "      <td>None</td>\n",
       "      <td>gak ada salahnya kan aku sayang sama kamu kalo...</td>\n",
       "      <td>False</td>\n",
       "    </tr>\n",
       "    <tr>\n",
       "      <th>10777</th>\n",
       "      <td>0</td>\n",
       "      <td>Haloobat Nonton Mtix Pastikan kamu tahu info i...</td>\n",
       "      <td>None</td>\n",
       "      <td>haloobat nonton mtix pastikan kamu tahu info i...</td>\n",
       "      <td>False</td>\n",
       "    </tr>\n",
       "    <tr>\n",
       "      <th>10778</th>\n",
       "      <td>0</td>\n",
       "      <td>Mereka tiba di rumah hijrah BEKALSEBELUMAJALEPS12</td>\n",
       "      <td>None</td>\n",
       "      <td>mereka tiba di rumah hijrah bekalsebelumajaleps12</td>\n",
       "      <td>False</td>\n",
       "    </tr>\n",
       "    <tr>\n",
       "      <th>10779</th>\n",
       "      <td>0</td>\n",
       "      <td>Maaf kamu terlalu batik buat aku HariBatikNasi...</td>\n",
       "      <td>None</td>\n",
       "      <td>maaf kamu terlalu batik buat aku haribatiknasi...</td>\n",
       "      <td>False</td>\n",
       "    </tr>\n",
       "    <tr>\n",
       "      <th>10780</th>\n",
       "      <td>0</td>\n",
       "      <td>Hai boleh email kamu apa Kamu urus ke ppmt lan...</td>\n",
       "      <td>None</td>\n",
       "      <td>hai boleh email kamu apa kamu urus ke ppmt lan...</td>\n",
       "      <td>False</td>\n",
       "    </tr>\n",
       "    <tr>\n",
       "      <th>10782</th>\n",
       "      <td>1</td>\n",
       "      <td>Aku ingin melihatmu tua aku ingin melihat kita...</td>\n",
       "      <td>None</td>\n",
       "      <td>aku ingin melihatmu tua aku ingin melihat kita...</td>\n",
       "      <td>False</td>\n",
       "    </tr>\n",
       "    <tr>\n",
       "      <th>10783</th>\n",
       "      <td>1</td>\n",
       "      <td>Kaya tak selalu diukur dengan banyaknya harta ...</td>\n",
       "      <td>None</td>\n",
       "      <td>kaya tak selalu diukur dengan banyaknya harta ...</td>\n",
       "      <td>False</td>\n",
       "    </tr>\n",
       "    <tr>\n",
       "      <th>10784</th>\n",
       "      <td>1</td>\n",
       "      <td>Ya Allah berikanlah kepada beliau kekuatan dan...</td>\n",
       "      <td>None</td>\n",
       "      <td>ya allah berikanlah kepada beliau kekuatan dan...</td>\n",
       "      <td>False</td>\n",
       "    </tr>\n",
       "    <tr>\n",
       "      <th>10785</th>\n",
       "      <td>1</td>\n",
       "      <td>Aah sampai je mamak terus tkleh hidup hahahaha...</td>\n",
       "      <td>None</td>\n",
       "      <td>aah sampai je mamak terus tkleh hidup hahahaha...</td>\n",
       "      <td>False</td>\n",
       "    </tr>\n",
       "    <tr>\n",
       "      <th>10786</th>\n",
       "      <td>0</td>\n",
       "      <td>Wah player kamu mark</td>\n",
       "      <td>None</td>\n",
       "      <td>wah player kamu mark</td>\n",
       "      <td>False</td>\n",
       "    </tr>\n",
       "    <tr>\n",
       "      <th>10787</th>\n",
       "      <td>-1</td>\n",
       "      <td>Termasuk membahas tentang LUMPUR LAPINDO tidak</td>\n",
       "      <td>None</td>\n",
       "      <td>termasuk membahas tentang lumpur lapindo tidak</td>\n",
       "      <td>False</td>\n",
       "    </tr>\n",
       "    <tr>\n",
       "      <th>10788</th>\n",
       "      <td>0</td>\n",
       "      <td>HIMAIKOM HARI BATIK NASIONALelama org Indonesi...</td>\n",
       "      <td>None</td>\n",
       "      <td>himaikom hari batik nasionalelama org indonesi...</td>\n",
       "      <td>False</td>\n",
       "    </tr>\n",
       "    <tr>\n",
       "      <th>10789</th>\n",
       "      <td>1</td>\n",
       "      <td>Ini baru presidenku</td>\n",
       "      <td>None</td>\n",
       "      <td>ini baru presidenku</td>\n",
       "      <td>False</td>\n",
       "    </tr>\n",
       "    <tr>\n",
       "      <th>10790</th>\n",
       "      <td>0</td>\n",
       "      <td>Kita tunggu berita pastinya langsung dari korb...</td>\n",
       "      <td>None</td>\n",
       "      <td>kita tunggu berita pastinya langsung dari korb...</td>\n",
       "      <td>False</td>\n",
       "    </tr>\n",
       "    <tr>\n",
       "      <th>10792</th>\n",
       "      <td>-1</td>\n",
       "      <td>Wahai yg katanya titisan Allah Negara ini sdg ...</td>\n",
       "      <td>None</td>\n",
       "      <td>wahai yg katanya titisan allah negara ini sdg ...</td>\n",
       "      <td>False</td>\n",
       "    </tr>\n",
       "    <tr>\n",
       "      <th>10793</th>\n",
       "      <td>1</td>\n",
       "      <td>Enjoy Persib</td>\n",
       "      <td>None</td>\n",
       "      <td>enjoy persib</td>\n",
       "      <td>False</td>\n",
       "    </tr>\n",
       "    <tr>\n",
       "      <th>10794</th>\n",
       "      <td>1</td>\n",
       "      <td>Selamat Hari Batik Nasional Mari jaga warisan ...</td>\n",
       "      <td>None</td>\n",
       "      <td>selamat hari batik nasional mari jaga warisan ...</td>\n",
       "      <td>False</td>\n",
       "    </tr>\n",
       "    <tr>\n",
       "      <th>10795</th>\n",
       "      <td>1</td>\n",
       "      <td>Selamat Hari Batik Nasional menunjukan Identit...</td>\n",
       "      <td>None</td>\n",
       "      <td>selamat hari batik nasional menunjukan identit...</td>\n",
       "      <td>False</td>\n",
       "    </tr>\n",
       "    <tr>\n",
       "      <th>10797</th>\n",
       "      <td>0</td>\n",
       "      <td>Jadi kita harus mkn dulu di KFC sebesar 60 rib...</td>\n",
       "      <td>None</td>\n",
       "      <td>jadi kita harus mkn dulu di kfc sebesar 60 rib...</td>\n",
       "      <td>False</td>\n",
       "    </tr>\n",
       "    <tr>\n",
       "      <th>10798</th>\n",
       "      <td>0</td>\n",
       "      <td>Tante kapan nikah Akun RP panggil calon istri ...</td>\n",
       "      <td>None</td>\n",
       "      <td>tante kapan nikah akun rp panggil calon istri ...</td>\n",
       "      <td>False</td>\n",
       "    </tr>\n",
       "    <tr>\n",
       "      <th>10799</th>\n",
       "      <td>-1</td>\n",
       "      <td>Pelik tengok orang zaman sekarang ni dulu kema...</td>\n",
       "      <td>None</td>\n",
       "      <td>pelik tengok orang zaman sekarang ni dulu kema...</td>\n",
       "      <td>False</td>\n",
       "    </tr>\n",
       "    <tr>\n",
       "      <th>10800</th>\n",
       "      <td>0</td>\n",
       "      <td>Menikah itu belum tentu harus sudah pernah pac...</td>\n",
       "      <td>None</td>\n",
       "      <td>menikah itu belum tentu harus sudah pernah pac...</td>\n",
       "      <td>False</td>\n",
       "    </tr>\n",
       "    <tr>\n",
       "      <th>10801</th>\n",
       "      <td>1</td>\n",
       "      <td>Jangan membandingkan kehidupanmu dengan kehidu...</td>\n",
       "      <td>None</td>\n",
       "      <td>jangan membandingkan kehidupanmu dengan kehidu...</td>\n",
       "      <td>False</td>\n",
       "    </tr>\n",
       "    <tr>\n",
       "      <th>10802</th>\n",
       "      <td>0</td>\n",
       "      <td>Sini uname lu ntar gua follow</td>\n",
       "      <td>None</td>\n",
       "      <td>sini uname lu ntar gua follow</td>\n",
       "      <td>False</td>\n",
       "    </tr>\n",
       "    <tr>\n",
       "      <th>10803</th>\n",
       "      <td>1</td>\n",
       "      <td>Apapun yg telah kamu lakukan apapun kesalahanm...</td>\n",
       "      <td>None</td>\n",
       "      <td>apapun yg telah kamu lakukan apapun kesalahanm...</td>\n",
       "      <td>False</td>\n",
       "    </tr>\n",
       "    <tr>\n",
       "      <th>10805</th>\n",
       "      <td>1</td>\n",
       "      <td>Semoga Allah permudahkan urusan aku amp orang ...</td>\n",
       "      <td>None</td>\n",
       "      <td>semoga allah permudahkan urusan aku amp orang ...</td>\n",
       "      <td>False</td>\n",
       "    </tr>\n",
       "  </tbody>\n",
       "</table>\n",
       "<p>372 rows × 5 columns</p>\n",
       "</div>"
      ],
      "text/plain": [
       "       sentimen                                              Tweet hashtag  \\\n",
       "284           0  nctea selama ini aku cuma tau fotonya jisung a...    None   \n",
       "933           0  nctea selama ini aku cuma tau fotonya jisung a...    None   \n",
       "1097          1  aku suka orang cakap macam ni even tak rasa be...    None   \n",
       "1272          0  berkenan betul aku dgn concept design ikea ni ...    None   \n",
       "1277         -1  iPhone tak mahal aku rasa Ikut market price an...    None   \n",
       "1359         -1  admin tau kalo hoseok bisa nyetir tapi kenapa ...    None   \n",
       "1658          1  chemotherapy gdp cycle 2 day 1 orang lain sibu...    None   \n",
       "2208          1  aku suka orang cakap macam ni even tak rasa be...    None   \n",
       "2412          1  aku suka orang cakap macam ni even tak rasa be...    None   \n",
       "2721          1  berkenan betul aku dgn concept design ikea ni ...    None   \n",
       "3171          0  nctea selama ini aku cuma tau fotonya jisung a...    None   \n",
       "3208          0  chemotherapy gdp cycle 2 day 1 orang lain sibu...    None   \n",
       "3556          0  weh korang mak aku ada buat hand sock dengan i...    None   \n",
       "3575          0  admin tau kalo hoseok bisa nyetir tapi kenapa ...    None   \n",
       "4093          0  kas jogathon ni benda paling bodoh time sekola...    None   \n",
       "5396          0  bantuan dari pemerintah sangat diharapkan oleh...    None   \n",
       "5468         -1  jika benar dianiaya artinya mereka sudah mulai...    None   \n",
       "5705          0  soalan kita sedang duduk menanti solat jemaah ...    None   \n",
       "5837          1  finally dapat juga beli dua buku ni next time ...    None   \n",
       "6015         -1  pengakuan pelaku mereka menjarah untuk keluarg...    None   \n",
       "6335          0  membuat media xld dan he untuk persiapan pengu...    None   \n",
       "6425          1  dia juga meminta para umat untuk mendoakan kor...    None   \n",
       "6548          0  awal juga aku buka rotikeramat hari ni jemput ...    None   \n",
       "6724          1  resmi dirilis kpu visi pasangan prabowoandi le...    None   \n",
       "6746          1  alhamdulillah terimakasih ya alloh hrs tidak m...    None   \n",
       "7336         -1  menghalalkanegala cara melanggar aturan merasa...    None   \n",
       "7400          0  dan rahsiakanlah perkataanmu atau nyatakanlahu...    None   \n",
       "7776         -1  mereka menyesal kerana tidak solat dan kurang ...    None   \n",
       "7884         -1  duka rakyatulawesi tengah duka kita semua deng...    None   \n",
       "8072          0  pengakuan pelaku mereka menjarah untuk keluarg...    None   \n",
       "...         ...                                                ...     ...   \n",
       "10771         0  Awak Ada personal gn saya ke Kalau Ada slide t...    None   \n",
       "10773         0                                     Kamu juga hmp     None   \n",
       "10774         0  orang melayu kita ni suka merajuk Bila dah mer...    None   \n",
       "10775         0  Soon Pergi sabah asyik kundasang je kita try l...    None   \n",
       "10776        -1  Gak ada salahnya kan aku sayang sama kamu Kalo...    None   \n",
       "10777         0  Haloobat Nonton Mtix Pastikan kamu tahu info i...    None   \n",
       "10778         0  Mereka tiba di rumah hijrah BEKALSEBELUMAJALEPS12    None   \n",
       "10779         0  Maaf kamu terlalu batik buat aku HariBatikNasi...    None   \n",
       "10780         0  Hai boleh email kamu apa Kamu urus ke ppmt lan...    None   \n",
       "10782         1  Aku ingin melihatmu tua aku ingin melihat kita...    None   \n",
       "10783         1  Kaya tak selalu diukur dengan banyaknya harta ...    None   \n",
       "10784         1  Ya Allah berikanlah kepada beliau kekuatan dan...    None   \n",
       "10785         1  Aah sampai je mamak terus tkleh hidup hahahaha...    None   \n",
       "10786         0                              Wah player kamu mark     None   \n",
       "10787        -1    Termasuk membahas tentang LUMPUR LAPINDO tidak     None   \n",
       "10788         0  HIMAIKOM HARI BATIK NASIONALelama org Indonesi...    None   \n",
       "10789         1                               Ini baru presidenku     None   \n",
       "10790         0  Kita tunggu berita pastinya langsung dari korb...    None   \n",
       "10792        -1  Wahai yg katanya titisan Allah Negara ini sdg ...    None   \n",
       "10793         1                                      Enjoy Persib     None   \n",
       "10794         1  Selamat Hari Batik Nasional Mari jaga warisan ...    None   \n",
       "10795         1  Selamat Hari Batik Nasional menunjukan Identit...    None   \n",
       "10797         0  Jadi kita harus mkn dulu di KFC sebesar 60 rib...    None   \n",
       "10798         0  Tante kapan nikah Akun RP panggil calon istri ...    None   \n",
       "10799        -1  Pelik tengok orang zaman sekarang ni dulu kema...    None   \n",
       "10800         0  Menikah itu belum tentu harus sudah pernah pac...    None   \n",
       "10801         1  Jangan membandingkan kehidupanmu dengan kehidu...    None   \n",
       "10802         0                      Sini uname lu ntar gua follow    None   \n",
       "10803         1  Apapun yg telah kamu lakukan apapun kesalahanm...    None   \n",
       "10805         1  Semoga Allah permudahkan urusan aku amp orang ...    None   \n",
       "\n",
       "                                                 no_link  unicode  \n",
       "284    nctea selama ini aku cuma tau fotonya jisung a...    False  \n",
       "933    nctea selama ini aku cuma tau fotonya jisung a...    False  \n",
       "1097   aku suka orang cakap macam ni even tak rasa be...    False  \n",
       "1272   berkenan betul aku dgn concept design ikea ni ...    False  \n",
       "1277   iphone tak mahal aku rasa ikut market price an...    False  \n",
       "1359   admin tau kalo hoseok bisa nyetir tapi kenapa ...    False  \n",
       "1658   chemotherapy gdp cycle 2 day 1 orang lain sibu...    False  \n",
       "2208   aku suka orang cakap macam ni even tak rasa be...    False  \n",
       "2412   aku suka orang cakap macam ni even tak rasa be...    False  \n",
       "2721   berkenan betul aku dgn concept design ikea ni ...    False  \n",
       "3171   nctea selama ini aku cuma tau fotonya jisung a...    False  \n",
       "3208   chemotherapy gdp cycle 2 day 1 orang lain sibu...    False  \n",
       "3556   weh korang mak aku ada buat hand sock dengan i...    False  \n",
       "3575   admin tau kalo hoseok bisa nyetir tapi kenapa ...    False  \n",
       "4093   kas jogathon ni benda paling bodoh time sekola...    False  \n",
       "5396   bantuan dari pemerintah sangat diharapkan oleh...    False  \n",
       "5468    jika benar dianiaya artinya mereka sudah mulai      False  \n",
       "5705   soalan kita sedang duduk menanti solat jemaah ...    False  \n",
       "5837   finally dapat juga beli dua buku ni next time ...    False  \n",
       "6015   pengakuan pelaku mereka menjarah untuk keluarg...    False  \n",
       "6335   membuat media xld dan he untuk persiapan pengu...    False  \n",
       "6425   dia juga meminta para umat untuk mendoakan kor...    False  \n",
       "6548   awal juga aku buka rotikeramat hari ni jemput ...    False  \n",
       "6724   resmi dirilis kpu visi pasangan prabowoandi le...    False  \n",
       "6746   alhamdulillah terimakasih ya alloh hrs tidak m...    False  \n",
       "7336   menghalalkanegala cara melanggar aturan merasa...    False  \n",
       "7400   dan rahsiakanlah perkataanmu atau nyatakanlahu...    False  \n",
       "7776   mereka menyesal kerana tidak solat dan kurang ...    False  \n",
       "7884   duka rakyatulawesi tengah duka kita semua deng...    False  \n",
       "8072   pengakuan pelaku mereka menjarah untuk keluarg...    False  \n",
       "...                                                  ...      ...  \n",
       "10771  awak ada personal gn saya ke kalau ada slide t...    False  \n",
       "10773                                     kamu juga hmp     False  \n",
       "10774  orang melayu kita ni suka merajuk bila dah mer...    False  \n",
       "10775  soon pergi sabah asyik kundasang je kita try l...    False  \n",
       "10776  gak ada salahnya kan aku sayang sama kamu kalo...    False  \n",
       "10777  haloobat nonton mtix pastikan kamu tahu info i...    False  \n",
       "10778  mereka tiba di rumah hijrah bekalsebelumajaleps12    False  \n",
       "10779  maaf kamu terlalu batik buat aku haribatiknasi...    False  \n",
       "10780  hai boleh email kamu apa kamu urus ke ppmt lan...    False  \n",
       "10782  aku ingin melihatmu tua aku ingin melihat kita...    False  \n",
       "10783  kaya tak selalu diukur dengan banyaknya harta ...    False  \n",
       "10784  ya allah berikanlah kepada beliau kekuatan dan...    False  \n",
       "10785  aah sampai je mamak terus tkleh hidup hahahaha...    False  \n",
       "10786                              wah player kamu mark     False  \n",
       "10787    termasuk membahas tentang lumpur lapindo tidak     False  \n",
       "10788  himaikom hari batik nasionalelama org indonesi...    False  \n",
       "10789                               ini baru presidenku     False  \n",
       "10790  kita tunggu berita pastinya langsung dari korb...    False  \n",
       "10792  wahai yg katanya titisan allah negara ini sdg ...    False  \n",
       "10793                                      enjoy persib     False  \n",
       "10794  selamat hari batik nasional mari jaga warisan ...    False  \n",
       "10795  selamat hari batik nasional menunjukan identit...    False  \n",
       "10797  jadi kita harus mkn dulu di kfc sebesar 60 rib...    False  \n",
       "10798  tante kapan nikah akun rp panggil calon istri ...    False  \n",
       "10799  pelik tengok orang zaman sekarang ni dulu kema...    False  \n",
       "10800  menikah itu belum tentu harus sudah pernah pac...    False  \n",
       "10801  jangan membandingkan kehidupanmu dengan kehidu...    False  \n",
       "10802                      sini uname lu ntar gua follow    False  \n",
       "10803  apapun yg telah kamu lakukan apapun kesalahanm...    False  \n",
       "10805  semoga allah permudahkan urusan aku amp orang ...    False  \n",
       "\n",
       "[372 rows x 5 columns]"
      ]
     },
     "execution_count": 9,
     "metadata": {},
     "output_type": "execute_result"
    }
   ],
   "source": [
    "df[df['Tweet'] != df['no_link']]"
   ]
  },
  {
   "cell_type": "markdown",
   "metadata": {},
   "source": [
    "## 2. Clean up typo"
   ]
  },
  {
   "cell_type": "code",
   "execution_count": 10,
   "metadata": {
    "ExecuteTime": {
     "end_time": "2019-11-13T03:08:34.720511Z",
     "start_time": "2019-11-13T03:08:34.428157Z"
    }
   },
   "outputs": [
    {
     "data": {
      "text/plain": [
       "(15006, 2)"
      ]
     },
     "execution_count": 10,
     "metadata": {},
     "output_type": "execute_result"
    }
   ],
   "source": [
    "kamusalay_2 = pd.read_csv('Dataset/colloquial-indonesian-lexicon.csv')\n",
    "\n",
    "kamusalay_2['Alay'] =kamusalay_2['slang']\n",
    "\n",
    "kamusalay_2['KBBI'] =kamusalay_2['formal']\n",
    "kamusalay_2.drop('slang formal In-dictionary context category1 category2 category3'.split(), axis = 1, inplace = True)\n",
    "kamusalay_2.shape"
   ]
  },
  {
   "cell_type": "code",
   "execution_count": 11,
   "metadata": {
    "ExecuteTime": {
     "end_time": "2019-11-13T03:08:34.820324Z",
     "start_time": "2019-11-13T03:08:34.724375Z"
    }
   },
   "outputs": [
    {
     "data": {
      "text/plain": [
       "(238, 2)"
      ]
     },
     "execution_count": 11,
     "metadata": {},
     "output_type": "execute_result"
    }
   ],
   "source": [
    "kamusalay = pd.read_csv('Dataset/kamusalay.csv', header = None)\n",
    "kamusalay.columns = ['Alay', 'KBBI']\n",
    "kamusalay.shape"
   ]
  },
  {
   "cell_type": "code",
   "execution_count": 12,
   "metadata": {
    "ExecuteTime": {
     "end_time": "2019-11-13T03:08:35.690674Z",
     "start_time": "2019-11-13T03:08:34.825363Z"
    }
   },
   "outputs": [],
   "source": [
    "kamus_alay = pd.merge(kamusalay, kamusalay_2, how = 'outer')\n",
    "kamus_alay.drop_duplicates(subset = 'Alay', inplace = True)\n",
    "kamus_alay.reset_index(inplace = True, drop = True)\n",
    "# kamus_alay.shape\n",
    "\n",
    "kamus = {}\n",
    "# kamus_alay[kamus_alay['Alay'] == 'gw']\n",
    "for index, row in kamus_alay.iterrows():\n",
    "    kamus[row['Alay']] = row['KBBI']"
   ]
  },
  {
   "cell_type": "code",
   "execution_count": 13,
   "metadata": {
    "ExecuteTime": {
     "end_time": "2019-11-13T03:08:36.255243Z",
     "start_time": "2019-11-13T03:08:35.693050Z"
    }
   },
   "outputs": [
    {
     "data": {
      "text/plain": [
       "'apa'"
      ]
     },
     "execution_count": 13,
     "metadata": {},
     "output_type": "execute_result"
    }
   ],
   "source": [
    "from nltk.corpus import stopwords\n",
    "from Sastrawi.Stemmer.StemmerFactory import StemmerFactory\n",
    "\n",
    "def hapus_katadouble(s): \n",
    "    #look for 2 or more repetitions of character and replace with the character itself\n",
    "    pattern = re.compile(r\"(.)\\1{1,}\", re.DOTALL)\n",
    "    return pattern.sub(r\"\\1\\1\", s)\n",
    "\n",
    "\n",
    "def text_process(text):\n",
    "    \"\"\"\n",
    "    Takes in a string of text, then performs the following:\n",
    "    1. Remove all punctuation\n",
    "    2. Remove all stopwords\n",
    "    3. Returns a list of the cleaned text\n",
    "    4. Remove all string not in number\n",
    "    \"\"\"\n",
    "    #lowercase all\n",
    "    text = text.lower()\n",
    "    #hapus RT\n",
    "    text=re.sub('^rt @[^\\s]+','',text)\n",
    "#     text = re.sub(',','',text)\n",
    "    text=re.sub(r'http\\S+','',text)\n",
    "\t#hapus @username\n",
    "    text=re.sub('@[^\\s]+','',text)\n",
    "\t#hapus #tagger \n",
    "#     text = re.sub(r'#([^\\s]+)', r'\\1', text)\n",
    "    text = re.sub(r'#([^\\s]+)', '', text)\n",
    "    #hapus tanda baca dan angka\n",
    "    hapus = string.punctuation + '0123456789'\n",
    "    text = [char for char in text if char not in hapus]\n",
    "    text = ''.join(text)\n",
    "    # substitute slang word\n",
    "    text = text.split()\n",
    "    global kamus\n",
    "    for i in range(len(text)):\n",
    "        if text[i] in kamus.keys():\n",
    "            text[i] = kamus[text[i]]\n",
    "    \n",
    "    text = ' '.join(text)\n",
    "    \n",
    "    factory = StemmerFactory()\n",
    "    stemmer = factory.create_stemmer()\n",
    "    \n",
    "    kalimat = ' '.join([hapus_katadouble(word) for word in text.split()])\n",
    "    \n",
    "    return stemmer.stem(kalimat)\n",
    "\n",
    "\n",
    "text_process('apaan')"
   ]
  },
  {
   "cell_type": "code",
   "execution_count": 85,
   "metadata": {
    "ExecuteTime": {
     "end_time": "2019-11-13T08:44:07.443519Z",
     "start_time": "2019-11-13T08:44:07.404180Z"
    }
   },
   "outputs": [],
   "source": [
    "factory = StemmerFactory()\n",
    "stemmer = factory.create_stemmer()"
   ]
  },
  {
   "cell_type": "code",
   "execution_count": 90,
   "metadata": {
    "ExecuteTime": {
     "end_time": "2019-11-13T09:44:37.517295Z",
     "start_time": "2019-11-13T09:44:37.496305Z"
    }
   },
   "outputs": [
    {
     "data": {
      "text/plain": [
       "'mengapa mandi'"
      ]
     },
     "execution_count": 90,
     "metadata": {},
     "output_type": "execute_result"
    }
   ],
   "source": [
    "stemmer.stem('Mengapa MemaNdikan')"
   ]
  },
  {
   "cell_type": "code",
   "execution_count": 14,
   "metadata": {
    "ExecuteTime": {
     "end_time": "2019-11-13T04:46:44.781855Z",
     "start_time": "2019-11-13T03:08:36.258532Z"
    }
   },
   "outputs": [],
   "source": [
    "df['no_link'] = df['no_link'].apply(text_process)"
   ]
  },
  {
   "cell_type": "code",
   "execution_count": 15,
   "metadata": {
    "ExecuteTime": {
     "end_time": "2019-11-13T04:46:44.935557Z",
     "start_time": "2019-11-13T04:46:44.792537Z"
    }
   },
   "outputs": [
    {
     "data": {
      "text/html": [
       "<div>\n",
       "<style scoped>\n",
       "    .dataframe tbody tr th:only-of-type {\n",
       "        vertical-align: middle;\n",
       "    }\n",
       "\n",
       "    .dataframe tbody tr th {\n",
       "        vertical-align: top;\n",
       "    }\n",
       "\n",
       "    .dataframe thead th {\n",
       "        text-align: right;\n",
       "    }\n",
       "</style>\n",
       "<table border=\"1\" class=\"dataframe\">\n",
       "  <thead>\n",
       "    <tr style=\"text-align: right;\">\n",
       "      <th></th>\n",
       "      <th>sentimen</th>\n",
       "      <th>Tweet</th>\n",
       "      <th>hashtag</th>\n",
       "      <th>no_link</th>\n",
       "      <th>unicode</th>\n",
       "    </tr>\n",
       "  </thead>\n",
       "  <tbody>\n",
       "    <tr>\n",
       "      <th>0</th>\n",
       "      <td>-1</td>\n",
       "      <td>lagu bosan apa yang aku save ni huhuhuhuhuhuhu...</td>\n",
       "      <td>None</td>\n",
       "      <td>lagu bosan apa yang aku save ini huhuhuhuhuhuh...</td>\n",
       "      <td>False</td>\n",
       "    </tr>\n",
       "    <tr>\n",
       "      <th>1</th>\n",
       "      <td>-1</td>\n",
       "      <td>kita lanjutkan saja diam ini hingga kau dan ak...</td>\n",
       "      <td>None</td>\n",
       "      <td>kita lanjut saja diam ini hingga kamu dan aku ...</td>\n",
       "      <td>False</td>\n",
       "    </tr>\n",
       "    <tr>\n",
       "      <th>2</th>\n",
       "      <td>1</td>\n",
       "      <td>doa rezeki tak putus inna haa zaa larizquna ma...</td>\n",
       "      <td>None</td>\n",
       "      <td>doa rezeki tak putus inna haa zaa larizquna ma...</td>\n",
       "      <td>False</td>\n",
       "    </tr>\n",
       "    <tr>\n",
       "      <th>3</th>\n",
       "      <td>1</td>\n",
       "      <td>makasih loh ntar kita bagi hasil aku 99 9 sisa...</td>\n",
       "      <td>None</td>\n",
       "      <td>terima kasih loh entar kita bagi hasil aku sis...</td>\n",
       "      <td>False</td>\n",
       "    </tr>\n",
       "    <tr>\n",
       "      <th>4</th>\n",
       "      <td>-1</td>\n",
       "      <td>aku tak faham betul jenis orang malaysia yang ...</td>\n",
       "      <td>None</td>\n",
       "      <td>aku tak faham betul jenis orang malaysia yang ...</td>\n",
       "      <td>False</td>\n",
       "    </tr>\n",
       "  </tbody>\n",
       "</table>\n",
       "</div>"
      ],
      "text/plain": [
       "   sentimen                                              Tweet hashtag  \\\n",
       "0        -1  lagu bosan apa yang aku save ni huhuhuhuhuhuhu...    None   \n",
       "1        -1  kita lanjutkan saja diam ini hingga kau dan ak...    None   \n",
       "2         1  doa rezeki tak putus inna haa zaa larizquna ma...    None   \n",
       "3         1  makasih loh ntar kita bagi hasil aku 99 9 sisa...    None   \n",
       "4        -1  aku tak faham betul jenis orang malaysia yang ...    None   \n",
       "\n",
       "                                             no_link  unicode  \n",
       "0  lagu bosan apa yang aku save ini huhuhuhuhuhuh...    False  \n",
       "1  kita lanjut saja diam ini hingga kamu dan aku ...    False  \n",
       "2  doa rezeki tak putus inna haa zaa larizquna ma...    False  \n",
       "3  terima kasih loh entar kita bagi hasil aku sis...    False  \n",
       "4  aku tak faham betul jenis orang malaysia yang ...    False  "
      ]
     },
     "execution_count": 15,
     "metadata": {},
     "output_type": "execute_result"
    }
   ],
   "source": [
    "df.head()"
   ]
  },
  {
   "cell_type": "code",
   "execution_count": 16,
   "metadata": {
    "ExecuteTime": {
     "end_time": "2019-11-13T04:46:46.143258Z",
     "start_time": "2019-11-13T04:46:44.941776Z"
    }
   },
   "outputs": [],
   "source": [
    "df.to_csv('sentiment_analysis_ID_clean.csv')"
   ]
  },
  {
   "cell_type": "code",
   "execution_count": 17,
   "metadata": {
    "ExecuteTime": {
     "end_time": "2019-11-13T04:46:46.157170Z",
     "start_time": "2019-11-13T04:46:46.145743Z"
    }
   },
   "outputs": [],
   "source": [
    "# df = pd.read_csv('sentiment_analysis_ID_clean.csv')\n",
    "# df.head()"
   ]
  },
  {
   "cell_type": "code",
   "execution_count": 18,
   "metadata": {
    "ExecuteTime": {
     "end_time": "2019-11-13T04:46:46.187906Z",
     "start_time": "2019-11-13T04:46:46.165891Z"
    }
   },
   "outputs": [],
   "source": [
    "df['type'] = df['no_link'].apply(lambda x : str(type(x)))"
   ]
  },
  {
   "cell_type": "code",
   "execution_count": 19,
   "metadata": {
    "ExecuteTime": {
     "end_time": "2019-11-13T04:46:46.241853Z",
     "start_time": "2019-11-13T04:46:46.192324Z"
    }
   },
   "outputs": [
    {
     "data": {
      "text/plain": [
       "<class 'str'>    10806\n",
       "Name: type, dtype: int64"
      ]
     },
     "execution_count": 19,
     "metadata": {},
     "output_type": "execute_result"
    }
   ],
   "source": [
    "df['type'].value_counts()"
   ]
  },
  {
   "cell_type": "code",
   "execution_count": 20,
   "metadata": {
    "ExecuteTime": {
     "end_time": "2019-11-13T04:46:46.262712Z",
     "start_time": "2019-11-13T04:46:46.246488Z"
    }
   },
   "outputs": [
    {
     "data": {
      "text/plain": [
       "array([\"<class 'str'>\", \"<class 'str'>\", \"<class 'str'>\", ...,\n",
       "       \"<class 'str'>\", \"<class 'str'>\", \"<class 'str'>\"], dtype=object)"
      ]
     },
     "execution_count": 20,
     "metadata": {},
     "output_type": "execute_result"
    }
   ],
   "source": [
    "df['type'].values"
   ]
  },
  {
   "cell_type": "code",
   "execution_count": 21,
   "metadata": {
    "ExecuteTime": {
     "end_time": "2019-11-13T04:46:46.300751Z",
     "start_time": "2019-11-13T04:46:46.266261Z"
    },
    "scrolled": true
   },
   "outputs": [
    {
     "data": {
      "text/html": [
       "<div>\n",
       "<style scoped>\n",
       "    .dataframe tbody tr th:only-of-type {\n",
       "        vertical-align: middle;\n",
       "    }\n",
       "\n",
       "    .dataframe tbody tr th {\n",
       "        vertical-align: top;\n",
       "    }\n",
       "\n",
       "    .dataframe thead th {\n",
       "        text-align: right;\n",
       "    }\n",
       "</style>\n",
       "<table border=\"1\" class=\"dataframe\">\n",
       "  <thead>\n",
       "    <tr style=\"text-align: right;\">\n",
       "      <th></th>\n",
       "      <th>sentimen</th>\n",
       "      <th>Tweet</th>\n",
       "      <th>hashtag</th>\n",
       "      <th>no_link</th>\n",
       "      <th>unicode</th>\n",
       "      <th>type</th>\n",
       "    </tr>\n",
       "  </thead>\n",
       "  <tbody>\n",
       "  </tbody>\n",
       "</table>\n",
       "</div>"
      ],
      "text/plain": [
       "Empty DataFrame\n",
       "Columns: [sentimen, Tweet, hashtag, no_link, unicode, type]\n",
       "Index: []"
      ]
     },
     "execution_count": 21,
     "metadata": {},
     "output_type": "execute_result"
    }
   ],
   "source": [
    "df[df['type'] == \"<class 'float'>\"]"
   ]
  },
  {
   "cell_type": "code",
   "execution_count": 22,
   "metadata": {
    "ExecuteTime": {
     "end_time": "2019-11-13T04:46:46.458782Z",
     "start_time": "2019-11-13T04:46:46.304076Z"
    }
   },
   "outputs": [],
   "source": [
    "df.drop('hashtag', axis = 1, inplace = True)\n",
    "df.dropna(inplace = True)"
   ]
  },
  {
   "cell_type": "markdown",
   "metadata": {},
   "source": [
    "## 3. Data Visualization"
   ]
  },
  {
   "cell_type": "code",
   "execution_count": 23,
   "metadata": {
    "ExecuteTime": {
     "end_time": "2019-11-13T04:46:54.556933Z",
     "start_time": "2019-11-13T04:46:46.465847Z"
    }
   },
   "outputs": [
    {
     "data": {
      "image/png": "[encoded data removed]",
      "text/plain": [
       "<Figure size 864x576 with 1 Axes>"
      ]
     },
     "metadata": {
      "needs_background": "light"
     },
     "output_type": "display_data"
    }
   ],
   "source": [
    "from PIL import Image\n",
    "from wordcloud import WordCloud, STOPWORDS, ImageColorGenerator\n",
    "\n",
    "# wordcloud string\n",
    "plt.figure(figsize = (12,8))\n",
    "text = \" \".join(review for review in df['Tweet'].dropna())\n",
    "# text = ' '.join(word for word in df['text'] if word.contains('#'))\n",
    "\n",
    "# Create and generate a word cloud image:\n",
    "wordcloud = WordCloud().generate(text)\n",
    "\n",
    "# Display the generated image:\n",
    "plt.imshow(wordcloud, interpolation='bilinear')\n",
    "plt.axis(\"off\")\n",
    "plt.show()"
   ]
  },
  {
   "cell_type": "code",
   "execution_count": 24,
   "metadata": {
    "ExecuteTime": {
     "end_time": "2019-11-13T04:47:01.935118Z",
     "start_time": "2019-11-13T04:46:54.564263Z"
    }
   },
   "outputs": [
    {
     "ename": "KeyError",
     "evalue": "'hashtag'",
     "output_type": "error",
     "traceback": [
      "\u001b[0;31m---------------------------------------------------------------------------\u001b[0m",
      "\u001b[0;31mKeyError\u001b[0m                                  Traceback (most recent call last)",
      "\u001b[0;32m~/anaconda3/lib/python3.7/site-packages/pandas/core/indexes/base.py\u001b[0m in \u001b[0;36mget_loc\u001b[0;34m(self, key, method, tolerance)\u001b[0m\n\u001b[1;32m   2656\u001b[0m             \u001b[0;32mtry\u001b[0m\u001b[0;34m:\u001b[0m\u001b[0;34m\u001b[0m\u001b[0;34m\u001b[0m\u001b[0m\n\u001b[0;32m-> 2657\u001b[0;31m                 \u001b[0;32mreturn\u001b[0m \u001b[0mself\u001b[0m\u001b[0;34m.\u001b[0m\u001b[0m_engine\u001b[0m\u001b[0;34m.\u001b[0m\u001b[0mget_loc\u001b[0m\u001b[0;34m(\u001b[0m\u001b[0mkey\u001b[0m\u001b[0;34m)\u001b[0m\u001b[0;34m\u001b[0m\u001b[0;34m\u001b[0m\u001b[0m\n\u001b[0m\u001b[1;32m   2658\u001b[0m             \u001b[0;32mexcept\u001b[0m \u001b[0mKeyError\u001b[0m\u001b[0;34m:\u001b[0m\u001b[0;34m\u001b[0m\u001b[0;34m\u001b[0m\u001b[0m\n",
      "\u001b[0;32mpandas/_libs/index.pyx\u001b[0m in \u001b[0;36mpandas._libs.index.IndexEngine.get_loc\u001b[0;34m()\u001b[0m\n",
      "\u001b[0;32mpandas/_libs/index.pyx\u001b[0m in \u001b[0;36mpandas._libs.index.IndexEngine.get_loc\u001b[0;34m()\u001b[0m\n",
      "\u001b[0;32mpandas/_libs/hashtable_class_helper.pxi\u001b[0m in \u001b[0;36mpandas._libs.hashtable.PyObjectHashTable.get_item\u001b[0;34m()\u001b[0m\n",
      "\u001b[0;32mpandas/_libs/hashtable_class_helper.pxi\u001b[0m in \u001b[0;36mpandas._libs.hashtable.PyObjectHashTable.get_item\u001b[0;34m()\u001b[0m\n",
      "\u001b[0;31mKeyError\u001b[0m: 'hashtag'",
      "\nDuring handling of the above exception, another exception occurred:\n",
      "\u001b[0;31mKeyError\u001b[0m                                  Traceback (most recent call last)",
      "\u001b[0;32m<ipython-input-24-07e73ddff693>\u001b[0m in \u001b[0;36m<module>\u001b[0;34m\u001b[0m\n\u001b[1;32m      1\u001b[0m \u001b[0;31m# wordcloud hashtag\u001b[0m\u001b[0;34m\u001b[0m\u001b[0;34m\u001b[0m\u001b[0;34m\u001b[0m\u001b[0m\n\u001b[1;32m      2\u001b[0m \u001b[0mplt\u001b[0m\u001b[0;34m.\u001b[0m\u001b[0mfigure\u001b[0m\u001b[0;34m(\u001b[0m\u001b[0mfigsize\u001b[0m \u001b[0;34m=\u001b[0m \u001b[0;34m(\u001b[0m\u001b[0;36m12\u001b[0m\u001b[0;34m,\u001b[0m\u001b[0;36m8\u001b[0m\u001b[0;34m)\u001b[0m\u001b[0;34m)\u001b[0m\u001b[0;34m\u001b[0m\u001b[0;34m\u001b[0m\u001b[0m\n\u001b[0;32m----> 3\u001b[0;31m \u001b[0mtext\u001b[0m \u001b[0;34m=\u001b[0m \u001b[0;34m\" \"\u001b[0m\u001b[0;34m.\u001b[0m\u001b[0mjoin\u001b[0m\u001b[0;34m(\u001b[0m\u001b[0mreview\u001b[0m \u001b[0;32mfor\u001b[0m \u001b[0mreview\u001b[0m \u001b[0;32min\u001b[0m \u001b[0mdf\u001b[0m\u001b[0;34m[\u001b[0m\u001b[0;34m'hashtag'\u001b[0m\u001b[0;34m]\u001b[0m\u001b[0;34m.\u001b[0m\u001b[0mdropna\u001b[0m\u001b[0;34m(\u001b[0m\u001b[0;34m)\u001b[0m\u001b[0;34m)\u001b[0m\u001b[0;34m\u001b[0m\u001b[0;34m\u001b[0m\u001b[0m\n\u001b[0m\u001b[1;32m      4\u001b[0m \u001b[0;31m# text = ' '.join(word for word in df['text'] if word.contains('#'))\u001b[0m\u001b[0;34m\u001b[0m\u001b[0;34m\u001b[0m\u001b[0;34m\u001b[0m\u001b[0m\n\u001b[1;32m      5\u001b[0m \u001b[0;34m\u001b[0m\u001b[0m\n",
      "\u001b[0;32m~/anaconda3/lib/python3.7/site-packages/pandas/core/frame.py\u001b[0m in \u001b[0;36m__getitem__\u001b[0;34m(self, key)\u001b[0m\n\u001b[1;32m   2925\u001b[0m             \u001b[0;32mif\u001b[0m \u001b[0mself\u001b[0m\u001b[0;34m.\u001b[0m\u001b[0mcolumns\u001b[0m\u001b[0;34m.\u001b[0m\u001b[0mnlevels\u001b[0m \u001b[0;34m>\u001b[0m \u001b[0;36m1\u001b[0m\u001b[0;34m:\u001b[0m\u001b[0;34m\u001b[0m\u001b[0;34m\u001b[0m\u001b[0m\n\u001b[1;32m   2926\u001b[0m                 \u001b[0;32mreturn\u001b[0m \u001b[0mself\u001b[0m\u001b[0;34m.\u001b[0m\u001b[0m_getitem_multilevel\u001b[0m\u001b[0;34m(\u001b[0m\u001b[0mkey\u001b[0m\u001b[0;34m)\u001b[0m\u001b[0;34m\u001b[0m\u001b[0;34m\u001b[0m\u001b[0m\n\u001b[0;32m-> 2927\u001b[0;31m             \u001b[0mindexer\u001b[0m \u001b[0;34m=\u001b[0m \u001b[0mself\u001b[0m\u001b[0;34m.\u001b[0m\u001b[0mcolumns\u001b[0m\u001b[0;34m.\u001b[0m\u001b[0mget_loc\u001b[0m\u001b[0;34m(\u001b[0m\u001b[0mkey\u001b[0m\u001b[0;34m)\u001b[0m\u001b[0;34m\u001b[0m\u001b[0;34m\u001b[0m\u001b[0m\n\u001b[0m\u001b[1;32m   2928\u001b[0m             \u001b[0;32mif\u001b[0m \u001b[0mis_integer\u001b[0m\u001b[0;34m(\u001b[0m\u001b[0mindexer\u001b[0m\u001b[0;34m)\u001b[0m\u001b[0;34m:\u001b[0m\u001b[0;34m\u001b[0m\u001b[0;34m\u001b[0m\u001b[0m\n\u001b[1;32m   2929\u001b[0m                 \u001b[0mindexer\u001b[0m \u001b[0;34m=\u001b[0m \u001b[0;34m[\u001b[0m\u001b[0mindexer\u001b[0m\u001b[0;34m]\u001b[0m\u001b[0;34m\u001b[0m\u001b[0;34m\u001b[0m\u001b[0m\n",
      "\u001b[0;32m~/anaconda3/lib/python3.7/site-packages/pandas/core/indexes/base.py\u001b[0m in \u001b[0;36mget_loc\u001b[0;34m(self, key, method, tolerance)\u001b[0m\n\u001b[1;32m   2657\u001b[0m                 \u001b[0;32mreturn\u001b[0m \u001b[0mself\u001b[0m\u001b[0;34m.\u001b[0m\u001b[0m_engine\u001b[0m\u001b[0;34m.\u001b[0m\u001b[0mget_loc\u001b[0m\u001b[0;34m(\u001b[0m\u001b[0mkey\u001b[0m\u001b[0;34m)\u001b[0m\u001b[0;34m\u001b[0m\u001b[0;34m\u001b[0m\u001b[0m\n\u001b[1;32m   2658\u001b[0m             \u001b[0;32mexcept\u001b[0m \u001b[0mKeyError\u001b[0m\u001b[0;34m:\u001b[0m\u001b[0;34m\u001b[0m\u001b[0;34m\u001b[0m\u001b[0m\n\u001b[0;32m-> 2659\u001b[0;31m                 \u001b[0;32mreturn\u001b[0m \u001b[0mself\u001b[0m\u001b[0;34m.\u001b[0m\u001b[0m_engine\u001b[0m\u001b[0;34m.\u001b[0m\u001b[0mget_loc\u001b[0m\u001b[0;34m(\u001b[0m\u001b[0mself\u001b[0m\u001b[0;34m.\u001b[0m\u001b[0m_maybe_cast_indexer\u001b[0m\u001b[0;34m(\u001b[0m\u001b[0mkey\u001b[0m\u001b[0;34m)\u001b[0m\u001b[0;34m)\u001b[0m\u001b[0;34m\u001b[0m\u001b[0;34m\u001b[0m\u001b[0m\n\u001b[0m\u001b[1;32m   2660\u001b[0m         \u001b[0mindexer\u001b[0m \u001b[0;34m=\u001b[0m \u001b[0mself\u001b[0m\u001b[0;34m.\u001b[0m\u001b[0mget_indexer\u001b[0m\u001b[0;34m(\u001b[0m\u001b[0;34m[\u001b[0m\u001b[0mkey\u001b[0m\u001b[0;34m]\u001b[0m\u001b[0;34m,\u001b[0m \u001b[0mmethod\u001b[0m\u001b[0;34m=\u001b[0m\u001b[0mmethod\u001b[0m\u001b[0;34m,\u001b[0m \u001b[0mtolerance\u001b[0m\u001b[0;34m=\u001b[0m\u001b[0mtolerance\u001b[0m\u001b[0;34m)\u001b[0m\u001b[0;34m\u001b[0m\u001b[0;34m\u001b[0m\u001b[0m\n\u001b[1;32m   2661\u001b[0m         \u001b[0;32mif\u001b[0m \u001b[0mindexer\u001b[0m\u001b[0;34m.\u001b[0m\u001b[0mndim\u001b[0m \u001b[0;34m>\u001b[0m \u001b[0;36m1\u001b[0m \u001b[0;32mor\u001b[0m \u001b[0mindexer\u001b[0m\u001b[0;34m.\u001b[0m\u001b[0msize\u001b[0m \u001b[0;34m>\u001b[0m \u001b[0;36m1\u001b[0m\u001b[0;34m:\u001b[0m\u001b[0;34m\u001b[0m\u001b[0;34m\u001b[0m\u001b[0m\n",
      "\u001b[0;32mpandas/_libs/index.pyx\u001b[0m in \u001b[0;36mpandas._libs.index.IndexEngine.get_loc\u001b[0;34m()\u001b[0m\n",
      "\u001b[0;32mpandas/_libs/index.pyx\u001b[0m in \u001b[0;36mpandas._libs.index.IndexEngine.get_loc\u001b[0;34m()\u001b[0m\n",
      "\u001b[0;32mpandas/_libs/hashtable_class_helper.pxi\u001b[0m in \u001b[0;36mpandas._libs.hashtable.PyObjectHashTable.get_item\u001b[0;34m()\u001b[0m\n",
      "\u001b[0;32mpandas/_libs/hashtable_class_helper.pxi\u001b[0m in \u001b[0;36mpandas._libs.hashtable.PyObjectHashTable.get_item\u001b[0;34m()\u001b[0m\n",
      "\u001b[0;31mKeyError\u001b[0m: 'hashtag'"
     ]
    },
    {
     "data": {
      "text/plain": [
       "<Figure size 864x576 with 0 Axes>"
      ]
     },
     "metadata": {},
     "output_type": "display_data"
    }
   ],
   "source": [
    "# wordcloud hashtag\n",
    "plt.figure(figsize = (12,8))\n",
    "text = \" \".join(review for review in df['hashtag'].dropna())\n",
    "# text = ' '.join(word for word in df['text'] if word.contains('#'))\n",
    "\n",
    "# Create and generate a word cloud image:\n",
    "wordcloud = WordCloud().generate(text)\n",
    "\n",
    "# Display the generated image:\n",
    "plt.imshow(wordcloud, interpolation='bilinear')\n",
    "plt.axis(\"off\")\n",
    "plt.show()"
   ]
  },
  {
   "cell_type": "code",
   "execution_count": 25,
   "metadata": {
    "ExecuteTime": {
     "end_time": "2019-11-13T04:50:46.003667Z",
     "start_time": "2019-11-13T04:50:45.841047Z"
    }
   },
   "outputs": [],
   "source": [
    "kotak = []\n",
    "for review in df['no_link']:\n",
    "    for a in review.split():\n",
    "        kotak.append(a)\n",
    "\n",
    "tally = {}\n",
    "for i in kotak:\n",
    "    if i in tally.keys():\n",
    "        tally[i] += 1\n",
    "    else : \n",
    "        tally[i] = 1\n"
   ]
  },
  {
   "cell_type": "code",
   "execution_count": 78,
   "metadata": {
    "ExecuteTime": {
     "end_time": "2019-11-13T08:38:10.563276Z",
     "start_time": "2019-11-13T08:38:10.494829Z"
    },
    "scrolled": true
   },
   "outputs": [],
   "source": [
    "listkata = pd.Series(tally).sort_values(ascending = True)"
   ]
  },
  {
   "cell_type": "code",
   "execution_count": 83,
   "metadata": {
    "ExecuteTime": {
     "end_time": "2019-11-13T08:39:10.859567Z",
     "start_time": "2019-11-13T08:39:10.826503Z"
    }
   },
   "outputs": [
    {
     "data": {
      "text/plain": [
       "botkece            1\n",
       "borak              1\n",
       "vans               1\n",
       "nadhir             1\n",
       "sajat              1\n",
       "betu               1\n",
       "haish              1\n",
       "kerat              1\n",
       "selipe             1\n",
       "merasmikn          1\n",
       "tumbl              1\n",
       "cengkareng         1\n",
       "ringin             1\n",
       "cinhapp            1\n",
       "aduduu             1\n",
       "kaw                1\n",
       "rib                1\n",
       "tapelah            1\n",
       "pqoott             1\n",
       "kebun              1\n",
       "jadul              1\n",
       "lotek              1\n",
       "tiara              1\n",
       "bercandaekatzun    1\n",
       "labu               1\n",
       "jasper             1\n",
       "yutuber            1\n",
       "ngereview          1\n",
       "kerucut            1\n",
       "bunglon            1\n",
       "                  ..\n",
       "imo                4\n",
       "dress              4\n",
       "layar              4\n",
       "dalang             4\n",
       "paras              4\n",
       "juluk              4\n",
       "sel                4\n",
       "lega               4\n",
       "nii                4\n",
       "kerapu             4\n",
       "nominal            4\n",
       "operator           4\n",
       "senyu              4\n",
       "attack             4\n",
       "worldtour          4\n",
       "worl               4\n",
       "cerdik             4\n",
       "gagap              4\n",
       "konfirmasi         4\n",
       "madu               4\n",
       "ali                4\n",
       "typo               4\n",
       "bom                4\n",
       "nominasi           4\n",
       "sampean            4\n",
       "pelan              4\n",
       "cool               4\n",
       "hu                 4\n",
       "takboleh           4\n",
       "carut              4\n",
       "Length: 13342, dtype: int64"
      ]
     },
     "execution_count": 83,
     "metadata": {},
     "output_type": "execute_result"
    }
   ],
   "source": [
    "listkata[listkata < 5]"
   ]
  },
  {
   "cell_type": "code",
   "execution_count": 76,
   "metadata": {
    "ExecuteTime": {
     "end_time": "2019-11-13T08:37:53.059187Z",
     "start_time": "2019-11-13T08:37:53.034013Z"
    }
   },
   "outputs": [
    {
     "data": {
      "text/plain": [
       "3402"
      ]
     },
     "execution_count": 76,
     "metadata": {},
     "output_type": "execute_result"
    }
   ],
   "source": [
    "listkata[listkata.index.contains('huhu') == True]"
   ]
  },
  {
   "cell_type": "code",
   "execution_count": 27,
   "metadata": {
    "ExecuteTime": {
     "end_time": "2019-11-13T04:50:52.151313Z",
     "start_time": "2019-11-13T04:50:52.146193Z"
    }
   },
   "outputs": [],
   "source": [
    "pd.set_option('display.max_columns', None) "
   ]
  },
  {
   "cell_type": "code",
   "execution_count": 28,
   "metadata": {
    "ExecuteTime": {
     "end_time": "2019-11-13T04:50:52.448740Z",
     "start_time": "2019-11-13T04:50:52.372094Z"
    }
   },
   "outputs": [
    {
     "data": {
      "text/html": [
       "<div>\n",
       "<style scoped>\n",
       "    .dataframe tbody tr th:only-of-type {\n",
       "        vertical-align: middle;\n",
       "    }\n",
       "\n",
       "    .dataframe tbody tr th {\n",
       "        vertical-align: top;\n",
       "    }\n",
       "\n",
       "    .dataframe thead th {\n",
       "        text-align: right;\n",
       "    }\n",
       "</style>\n",
       "<table border=\"1\" class=\"dataframe\">\n",
       "  <thead>\n",
       "    <tr style=\"text-align: right;\">\n",
       "      <th></th>\n",
       "      <th>sentimen</th>\n",
       "      <th>Tweet</th>\n",
       "      <th>no_link</th>\n",
       "      <th>unicode</th>\n",
       "      <th>type</th>\n",
       "    </tr>\n",
       "  </thead>\n",
       "  <tbody>\n",
       "  </tbody>\n",
       "</table>\n",
       "</div>"
      ],
      "text/plain": [
       "Empty DataFrame\n",
       "Columns: [sentimen, Tweet, no_link, unicode, type]\n",
       "Index: []"
      ]
     },
     "execution_count": 28,
     "metadata": {},
     "output_type": "execute_result"
    }
   ],
   "source": [
    "df[df['no_link'].apply(lambda x : len(re.findall('u2026', x))) > 0]"
   ]
  },
  {
   "cell_type": "code",
   "execution_count": null,
   "metadata": {},
   "outputs": [],
   "source": []
  },
  {
   "cell_type": "markdown",
   "metadata": {},
   "source": [
    "## 3. ML Modelling"
   ]
  },
  {
   "cell_type": "code",
   "execution_count": 50,
   "metadata": {
    "ExecuteTime": {
     "end_time": "2019-11-13T05:03:21.036798Z",
     "start_time": "2019-11-13T05:03:21.021431Z"
    }
   },
   "outputs": [],
   "source": [
    "from sklearn.model_selection import train_test_split\n",
    "\n",
    "X_train, X_test, y_train, y_test = train_test_split(df['no_link'], df['sentimen'], test_size = 0.3)"
   ]
  },
  {
   "cell_type": "code",
   "execution_count": 51,
   "metadata": {
    "ExecuteTime": {
     "end_time": "2019-11-13T05:03:21.960411Z",
     "start_time": "2019-11-13T05:03:21.950101Z"
    }
   },
   "outputs": [],
   "source": [
    "from imblearn.pipeline import Pipeline\n",
    "from sklearn.feature_extraction.text import CountVectorizer\n",
    "from sklearn.feature_extraction.text import TfidfTransformer\n",
    "from sklearn.naive_bayes import MultinomialNB\n",
    "from sklearn.linear_model import LogisticRegression\n",
    "from sklearn.metrics import classification_report, confusion_matrix, accuracy_score, roc_auc_score, f1_score, log_loss, matthews_corrcoef,precision_score,recall_score\n",
    "from sklearn.ensemble import RandomForestClassifier\n",
    "from sklearn.model_selection import KFold\n",
    "from imblearn.over_sampling import SMOTE"
   ]
  },
  {
   "cell_type": "markdown",
   "metadata": {},
   "source": [
    "### 3a. Count Vectoring and TF-IDF"
   ]
  },
  {
   "cell_type": "code",
   "execution_count": 52,
   "metadata": {
    "ExecuteTime": {
     "end_time": "2019-11-13T05:03:23.704142Z",
     "start_time": "2019-11-13T05:03:22.894608Z"
    }
   },
   "outputs": [
    {
     "name": "stdout",
     "output_type": "stream",
     "text": [
      "75142\n"
     ]
    }
   ],
   "source": [
    "word_transformer = CountVectorizer(ngram_range = (1,2)).fit(X_train)\n",
    "\n",
    "\n",
    "# Print total number of vocab words\n",
    "print(len(word_transformer.vocabulary_))"
   ]
  },
  {
   "cell_type": "code",
   "execution_count": 53,
   "metadata": {
    "ExecuteTime": {
     "end_time": "2019-11-13T05:03:24.322872Z",
     "start_time": "2019-11-13T05:03:23.716538Z"
    }
   },
   "outputs": [],
   "source": [
    "X_train_count_vectoring = word_transformer.transform(X_train)"
   ]
  },
  {
   "cell_type": "code",
   "execution_count": 54,
   "metadata": {
    "ExecuteTime": {
     "end_time": "2019-11-13T05:03:24.350997Z",
     "start_time": "2019-11-13T05:03:24.326970Z"
    }
   },
   "outputs": [],
   "source": [
    "tfidf_transformer = TfidfTransformer().fit(X_train_count_vectoring)"
   ]
  },
  {
   "cell_type": "code",
   "execution_count": 55,
   "metadata": {
    "ExecuteTime": {
     "end_time": "2019-11-13T05:03:24.475524Z",
     "start_time": "2019-11-13T05:03:24.421209Z"
    }
   },
   "outputs": [],
   "source": [
    "X_train_tfidf = tfidf_transformer.transform(X_train_count_vectoring)"
   ]
  },
  {
   "cell_type": "code",
   "execution_count": 56,
   "metadata": {
    "ExecuteTime": {
     "end_time": "2019-11-13T05:03:25.907733Z",
     "start_time": "2019-11-13T05:03:25.463269Z"
    }
   },
   "outputs": [],
   "source": [
    "test_transformer = CountVectorizer(ngram_range = (1,2)).fit(X_test)\n",
    "X_test_count_vectoring = word_transformer.transform(X_test)\n",
    "tfidf_transformer = TfidfTransformer().fit(X_test_count_vectoring)\n",
    "X_test = tfidf_transformer.transform(X_test_count_vectoring)"
   ]
  },
  {
   "cell_type": "markdown",
   "metadata": {},
   "source": [
    "### 3b. Resampling"
   ]
  },
  {
   "cell_type": "code",
   "execution_count": 57,
   "metadata": {
    "ExecuteTime": {
     "end_time": "2019-11-13T05:03:30.534193Z",
     "start_time": "2019-11-13T05:03:30.516930Z"
    }
   },
   "outputs": [
    {
     "data": {
      "text/plain": [
       " 0    3697\n",
       "-1    2018\n",
       " 1    1849\n",
       "Name: sentimen, dtype: int64"
      ]
     },
     "execution_count": 57,
     "metadata": {},
     "output_type": "execute_result"
    }
   ],
   "source": [
    "y_train.value_counts()"
   ]
  },
  {
   "cell_type": "code",
   "execution_count": 58,
   "metadata": {
    "ExecuteTime": {
     "end_time": "2019-11-13T05:03:30.763578Z",
     "start_time": "2019-11-13T05:03:30.756972Z"
    }
   },
   "outputs": [],
   "source": [
    "sm = SMOTE(sampling_strategy = 'minority')"
   ]
  },
  {
   "cell_type": "code",
   "execution_count": 59,
   "metadata": {
    "ExecuteTime": {
     "end_time": "2019-11-13T05:03:34.267002Z",
     "start_time": "2019-11-13T05:03:30.944136Z"
    }
   },
   "outputs": [],
   "source": [
    "oversampled_trainX, oversampled_trainY = sm.fit_sample(X_train_tfidf, y_train)"
   ]
  },
  {
   "cell_type": "code",
   "execution_count": 60,
   "metadata": {
    "ExecuteTime": {
     "end_time": "2019-11-13T05:03:34.292357Z",
     "start_time": "2019-11-13T05:03:34.269497Z"
    }
   },
   "outputs": [
    {
     "data": {
      "text/plain": [
       " 1    3697\n",
       " 0    3697\n",
       "-1    2018\n",
       "dtype: int64"
      ]
     },
     "execution_count": 60,
     "metadata": {},
     "output_type": "execute_result"
    }
   ],
   "source": [
    "pd.Series(oversampled_trainY).value_counts()"
   ]
  },
  {
   "cell_type": "code",
   "execution_count": 61,
   "metadata": {
    "ExecuteTime": {
     "end_time": "2019-11-13T05:03:37.691709Z",
     "start_time": "2019-11-13T05:03:34.299523Z"
    }
   },
   "outputs": [
    {
     "data": {
      "text/plain": [
       "-1    3697\n",
       " 1    3697\n",
       " 0    3697\n",
       "dtype: int64"
      ]
     },
     "execution_count": 61,
     "metadata": {},
     "output_type": "execute_result"
    }
   ],
   "source": [
    "oversampled_trainX, oversampled_trainY = sm.fit_sample(oversampled_trainX, oversampled_trainY)\n",
    "pd.Series(oversampled_trainY).value_counts()"
   ]
  },
  {
   "cell_type": "markdown",
   "metadata": {},
   "source": [
    "### 3b. Calculate using NaiveBayes"
   ]
  },
  {
   "cell_type": "code",
   "execution_count": 62,
   "metadata": {
    "ExecuteTime": {
     "end_time": "2019-11-13T05:03:37.788635Z",
     "start_time": "2019-11-13T05:03:37.696030Z"
    }
   },
   "outputs": [],
   "source": [
    "ml_model = MultinomialNB().fit(oversampled_trainX, oversampled_trainY)\n",
    "all_predictions = ml_model.predict(oversampled_trainX)\n",
    "all_proba = ml_model.predict_proba(oversampled_trainX)"
   ]
  },
  {
   "cell_type": "code",
   "execution_count": 63,
   "metadata": {
    "ExecuteTime": {
     "end_time": "2019-11-13T05:03:37.909433Z",
     "start_time": "2019-11-13T05:03:37.795013Z"
    },
    "scrolled": true
   },
   "outputs": [
    {
     "name": "stdout",
     "output_type": "stream",
     "text": [
      "              precision    recall  f1-score   support\n",
      "\n",
      "          -1       0.93      0.99      0.96      3697\n",
      "           0       0.99      0.88      0.94      3697\n",
      "           1       0.93      0.98      0.96      3697\n",
      "\n",
      "    accuracy                           0.95     11091\n",
      "   macro avg       0.95      0.95      0.95     11091\n",
      "weighted avg       0.95      0.95      0.95     11091\n",
      "\n"
     ]
    }
   ],
   "source": [
    "print (classification_report(oversampled_trainY, all_predictions))"
   ]
  },
  {
   "cell_type": "code",
   "execution_count": 64,
   "metadata": {
    "ExecuteTime": {
     "end_time": "2019-11-13T05:03:47.275263Z",
     "start_time": "2019-11-13T05:03:47.247254Z"
    }
   },
   "outputs": [
    {
     "name": "stdout",
     "output_type": "stream",
     "text": [
      "              precision    recall  f1-score   support\n",
      "\n",
      "          -1       0.47      0.69      0.56       869\n",
      "           0       0.79      0.44      0.57      1630\n",
      "           1       0.44      0.61      0.51       743\n",
      "\n",
      "    accuracy                           0.55      3242\n",
      "   macro avg       0.56      0.58      0.54      3242\n",
      "weighted avg       0.62      0.55      0.55      3242\n",
      "\n"
     ]
    }
   ],
   "source": [
    "print (classification_report(y_test, ml_model.predict(X_test)))"
   ]
  },
  {
   "cell_type": "code",
   "execution_count": 43,
   "metadata": {
    "ExecuteTime": {
     "end_time": "2019-11-13T04:51:44.658977Z",
     "start_time": "2019-11-13T04:51:44.639057Z"
    }
   },
   "outputs": [
    {
     "name": "stdout",
     "output_type": "stream",
     "text": [
      "              precision    recall  f1-score   support\n",
      "\n",
      "          -1       0.47      0.65      0.55       906\n",
      "           0       0.74      0.46      0.57      1566\n",
      "           1       0.47      0.62      0.53       770\n",
      "\n",
      "    accuracy                           0.55      3242\n",
      "   macro avg       0.56      0.58      0.55      3242\n",
      "weighted avg       0.60      0.55      0.55      3242\n",
      "\n"
     ]
    }
   ],
   "source": [
    "print (classification_report(y_test, ml_model.predict(X_test)))"
   ]
  },
  {
   "cell_type": "code",
   "execution_count": null,
   "metadata": {},
   "outputs": [],
   "source": []
  }
 ],
 "metadata": {
  "kernelspec": {
   "display_name": "Python 3",
   "language": "python",
   "name": "python3"
  },
  "language_info": {
   "codemirror_mode": {
    "name": "ipython",
    "version": 3
   },
   "file_extension": ".py",
   "mimetype": "text/x-python",
   "name": "python",
   "nbconvert_exporter": "python",
   "pygments_lexer": "ipython3",
   "version": "3.7.3"
  }
 },
 "nbformat": 4,
 "nbformat_minor": 2
}
